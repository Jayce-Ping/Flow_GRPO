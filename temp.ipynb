{
 "cells": [
  {
   "cell_type": "code",
   "execution_count": null,
   "id": "10d4b092",
   "metadata": {},
   "outputs": [],
   "source": [
    "import numpy as np"
   ]
  },
  {
   "cell_type": "code",
   "execution_count": 31,
   "id": "1d226c89",
   "metadata": {},
   "outputs": [],
   "source": [
    "array = np.array([[1,1,1],[2,2,2],[3,3,3]])"
   ]
  },
  {
   "cell_type": "code",
   "execution_count": 39,
   "id": "aa2dedfb",
   "metadata": {},
   "outputs": [
    {
     "data": {
      "text/plain": [
       "array([[1, 1, 1],\n",
       "       [2, 2, 2],\n",
       "       [3, 3, 3]])"
      ]
     },
     "execution_count": 39,
     "metadata": {},
     "output_type": "execute_result"
    }
   ],
   "source": [
    "array"
   ]
  },
  {
   "cell_type": "code",
   "execution_count": 1,
   "id": "1a020a16",
   "metadata": {},
   "outputs": [],
   "source": [
    "import wandb\n",
    "\n",
    "# ---- 配置信息 ----\n",
    "run_id = \"d04p82m0\"\n",
    "entity_name = \"315229706-xi-an-jiaotong-university-\"\n",
    "project_name = \"FlowGRPO\""
   ]
  },
  {
   "cell_type": "code",
   "execution_count": 2,
   "id": "5bd7ccb8",
   "metadata": {},
   "outputs": [
    {
     "name": "stderr",
     "output_type": "stream",
     "text": [
      "\u001b[34m\u001b[1mwandb\u001b[0m: Currently logged in as: \u001b[33m315229706\u001b[0m (\u001b[33m315229706-xi-an-jiaotong-university-\u001b[0m) to \u001b[32mhttps://api.wandb.ai\u001b[0m. Use \u001b[1m`wandb login --relogin`\u001b[0m to force relogin\n"
     ]
    }
   ],
   "source": [
    "# ---- 用 API 获取历史 ----\n",
    "api = wandb.Api()\n",
    "api_run = api.run(f\"{project_name}/{run_id}\")\n",
    "\n",
    "history = api_run.history()   # pandas.DataFrame"
   ]
  },
  {
   "cell_type": "code",
   "execution_count": 3,
   "id": "9f2e1771",
   "metadata": {},
   "outputs": [
    {
     "data": {
      "text/plain": [
       "Index(['reward_std_mean', 'loss', 'epoch', 'eval_reward_consistency_score',\n",
       "       'policy_loss', 'approx_kl', '_runtime', 'images', '_step', 'clipfrac',\n",
       "       'group_size', 'inner_epoch', 'reward_avg', 'trained_prompt_num',\n",
       "       'clipfrac_gt_one', 'reward_consistency_score', '_timestamp',\n",
       "       'clipfrac_lt_one', 'eval_reward_avg', 'reward_ori_avg',\n",
       "       'zero_std_ratio', 'eval_images'],\n",
       "      dtype='object')"
      ]
     },
     "execution_count": 3,
     "metadata": {},
     "output_type": "execute_result"
    }
   ],
   "source": [
    "history.keys()"
   ]
  },
  {
   "cell_type": "code",
   "execution_count": 12,
   "id": "cd676f78",
   "metadata": {},
   "outputs": [
    {
     "data": {
      "text/plain": [
       "0       0\n",
       "1       0\n",
       "2       0\n",
       "3       0\n",
       "4       0\n",
       "       ..\n",
       "495    43\n",
       "496    43\n",
       "497    44\n",
       "498    44\n",
       "499    44\n",
       "Name: epoch, Length: 500, dtype: int64"
      ]
     },
     "execution_count": 12,
     "metadata": {},
     "output_type": "execute_result"
    }
   ],
   "source": [
    "history['epoch']"
   ]
  },
  {
   "cell_type": "code",
   "execution_count": 9,
   "id": "e5920710",
   "metadata": {},
   "outputs": [
    {
     "data": {
      "text/plain": [
       "0        11\n",
       "1        12\n",
       "2        13\n",
       "3        14\n",
       "4        17\n",
       "       ... \n",
       "495    2107\n",
       "496    2108\n",
       "497    2115\n",
       "498    2118\n",
       "499    2119\n",
       "Name: _step, Length: 500, dtype: int64"
      ]
     },
     "execution_count": 9,
     "metadata": {},
     "output_type": "execute_result"
    }
   ],
   "source": [
    "history['_step']"
   ]
  }
 ],
 "metadata": {
  "kernelspec": {
   "display_name": "common-use",
   "language": "python",
   "name": "python3"
  },
  "language_info": {
   "codemirror_mode": {
    "name": "ipython",
    "version": 3
   },
   "file_extension": ".py",
   "mimetype": "text/x-python",
   "name": "python",
   "nbconvert_exporter": "python",
   "pygments_lexer": "ipython3",
   "version": "undefined.undefined.undefined"
  }
 },
 "nbformat": 4,
 "nbformat_minor": 5
}
