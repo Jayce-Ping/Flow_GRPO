{
 "cells": [
  {
   "cell_type": "markdown",
   "id": "07f932e1",
   "metadata": {},
   "source": [
    "# Model Group Pairwise Comparison"
   ]
  },
  {
   "cell_type": "code",
   "execution_count": 2,
   "id": "61cf4d24",
   "metadata": {},
   "outputs": [],
   "source": [
    "import numpy as np\n",
    "from itertools import combinations, permutations\n",
    "class GroupPairwiseComparator:\n",
    "    \"\"\"\n",
    "        This class aims to provide a framework for pairwise comparison-based sorting algorithms.\n",
    "        Different algorithms can be implemented as different methods.\n",
    "    \"\"\"\n",
    "    def __init__(self, items : list, comparison_matrix=None):\n",
    "        \"\"\"\n",
    "            Args:\n",
    "                items (`List[Any]`) : group elements\n",
    "                comparison_matrix (`Optional[np.ndarray]`) : comparison matrix `m`, where each `m[i,j]` is in `[0,1]`. `m[i,j] == 0` means `i` is 'smaller' than `j`.\n",
    "                \n",
    "        \"\"\"\n",
    "        self.n = len(items)\n",
    "        self.items = items\n",
    "        self.comparison_matrix = np.zeros((self.n, self.n), dtype=int) if comparison_matrix is None else np.array(comparison_matrix)\n",
    "\n",
    "    def reset_comparisons(self):\n",
    "        \"\"\"\n",
    "            Reset the comparison matrix to all zeros.\n",
    "        \"\"\"\n",
    "        self.comparison_matrix = np.zeros((self.n, self.n), dtype=int)\n",
    "\n",
    "    def is_compared(self, i : int, j : int):\n",
    "        \"\"\"\n",
    "            Check if items[i] and items[j] have been compared.\n",
    "        \"\"\"\n",
    "        assert i != j, ValueError(f\"Cannot check comparison for the same item {i} == {j}.\")\n",
    "        return self.comparison_matrix[i][j] != 0 or self.comparison_matrix[j][i] != 0\n",
    "\n",
    "    def add_comparison(self, i : int, j : int, result : int):\n",
    "        \"\"\"\n",
    "            Add a comparison result between items[i] and items[j].\n",
    "            result should be 1 if items[i] is better than items[j], else 0.\n",
    "        \"\"\"\n",
    "        assert i != j, ValueError(f\"Cannot add comparison for the same item {i} == {j}.\")\n",
    "        assert result in [0, 1], ValueError(f\"Comparison result must be 0 or 1, got {result}.\")\n",
    "        self.comparison_matrix[i][j] = result\n",
    "        self.comparison_matrix[j][i] = 1 - result\n",
    "\n",
    "    def compare(self, i : int, j : int, reverse=False):\n",
    "        \"\"\"\n",
    "            Compare items[i] and items[j].\n",
    "            Return True if items[i] is *smaller* than items[j] (for ascending order), else False.\n",
    "            This function should be consistent at least, which means one and only one of a > b, a < b is True (assume no equality).\n",
    "            The comparison may not be transitive, i.e., a > b and b > c does not necessarily imply a > c (refer to real-world scenarios).\n",
    "        \"\"\"\n",
    "        assert i != j, ValueError(f\"Cannot compare the same item {i} == {j}.\")\n",
    "\n",
    "        is_compared = self.is_compared(i, j)\n",
    "        if not is_compared:\n",
    "            # Random comparison as placeholder\n",
    "            win = np.random.choice([0, 1])\n",
    "            self.comparison_matrix[i][j] = win\n",
    "            self.comparison_matrix[j][i] = 1 - win\n",
    "\n",
    "        return self.comparison_matrix[i][j] == (1 if reverse else 0)\n",
    "\n",
    "    def quick_sort(self, reverse=False, return_comparison_count=False):\n",
    "        \"\"\"\n",
    "            Perform quicksort on self.items using pairwise comparisons.\n",
    "            This algorithm *requires* the assumption that the comparison function is consistent and transitive.\n",
    "        \"\"\"\n",
    "        cmp_cnt = 0\n",
    "        arr = list(range(self.n))\n",
    "        def partition(low, high):\n",
    "            pivot = arr[high]\n",
    "            i = low - 1\n",
    "            \n",
    "            for j in range(low, high):\n",
    "                nonlocal cmp_cnt\n",
    "                cmp_cnt += 1\n",
    "                if self.compare(arr[j], pivot, reverse=reverse):\n",
    "                    i += 1\n",
    "                    arr[i], arr[j] = arr[j], arr[i]\n",
    "            \n",
    "            arr[i + 1], arr[high] = arr[high], arr[i + 1]\n",
    "            return i + 1\n",
    "        \n",
    "        def quicksort_helper(low=0, high=None):\n",
    "            if high is None:\n",
    "                high = self.n - 1\n",
    "            if low < high:\n",
    "                pi = partition(low, high)\n",
    "                quicksort_helper(low, pi - 1)\n",
    "                quicksort_helper(pi + 1, high)\n",
    "\n",
    "        quicksort_helper()\n",
    "        if return_comparison_count:\n",
    "            return [self.items[i] for i in arr], cmp_cnt\n",
    "        \n",
    "        return [self.items[i] for i in arr]\n",
    "\n",
    "    \n",
    "    def tournament_sort(self, reverse=False, return_comparison_count=False):\n",
    "        \"\"\"\n",
    "            Perform tournament sort on self.items using pairwise comparisons.\n",
    "            This algorithm *does not* require the assumption that the comparison function is transitive.\n",
    "        \"\"\"\n",
    "        cmp_cnt = 0\n",
    "        arr = list(range(self.n))\n",
    "        tmp = [0] * (2 * self.n)\n",
    "\n",
    "        def build_tournament():\n",
    "            for i in range(self.n):\n",
    "                tmp[self.n + i] = arr[i]\n",
    "            for i in range(self.n - 1, 0, -1):\n",
    "                left = tmp[2 * i]\n",
    "                right = tmp[2 * i + 1]\n",
    "                nonlocal cmp_cnt\n",
    "                cmp_cnt += 1\n",
    "                if self.compare(left, right, reverse=reverse):\n",
    "                    tmp[i] = left\n",
    "                else:\n",
    "                    tmp[i] = right\n",
    "\n",
    "        def update_tournament(winner_index):\n",
    "            idx = (self.n + winner_index) // 2\n",
    "            while idx > 0:\n",
    "                left = tmp[2 * idx]\n",
    "                right = tmp[2 * idx + 1]\n",
    "\n",
    "                if left == -1:\n",
    "                    tmp[idx] = right\n",
    "                    idx //= 2\n",
    "                    continue\n",
    "\n",
    "                if right == -1:\n",
    "                    tmp[idx] = left\n",
    "                    idx //= 2\n",
    "                    continue\n",
    "\n",
    "                nonlocal cmp_cnt\n",
    "                cmp_cnt += 1\n",
    "                if self.compare(left, right, reverse=reverse):\n",
    "                    tmp[idx] = left\n",
    "                else:\n",
    "                    tmp[idx] = right\n",
    "                idx //= 2\n",
    "\n",
    "        sorted_items = []\n",
    "        build_tournament()\n",
    "        for _ in range(self.n):\n",
    "            winner = tmp[1]\n",
    "            sorted_items.append(self.items[winner])\n",
    "            winner_index = arr.index(winner)\n",
    "            arr[winner_index] = -1  # Mark as removed\n",
    "            tmp[self.n + winner_index] = -1  # Mark as removed in tournament tree\n",
    "            update_tournament(winner_index)\n",
    "\n",
    "        if return_comparison_count:\n",
    "            return sorted_items, cmp_cnt\n",
    "        \n",
    "        return sorted_items\n",
    "    \n",
    "    def swiss_sort(self, reverse=False, return_comparison_count=False):\n",
    "        \"\"\"\n",
    "            Perform Swiss-system tournament sort on self.items using pairwise comparisons.\n",
    "            This algorithm *does not* require the assumption that the comparison function is transitive.\n",
    "        \"\"\"\n",
    "        cmp_cnt = 0\n",
    "        arr = list(range(self.n))\n",
    "        scores = [0] * self.n\n",
    "        rounds = int(np.ceil(np.log2(self.n))) + 1  # Number of rounds\n",
    "\n",
    "        for _ in range(rounds):\n",
    "            np.random.shuffle(arr)\n",
    "            for i in range(0, self.n - 1, 2):\n",
    "                cmp_cnt += 1\n",
    "                if self.compare(arr[i], arr[i + 1], reverse=reverse):\n",
    "                    # If `compare` gives True, see it as arr[i] wins\n",
    "                    scores[arr[i]] += 1\n",
    "                else:\n",
    "                    scores[arr[i + 1]] += 1\n",
    "\n",
    "        sorted_indices = sorted(range(self.n), key=lambda x: scores[x], reverse=True)\n",
    "        sorted_items = [self.items[i] for i in sorted_indices]\n",
    "\n",
    "        if return_comparison_count:\n",
    "            return sorted_items, cmp_cnt\n",
    "        \n",
    "        return sorted_items"
   ]
  },
  {
   "cell_type": "code",
   "execution_count": 3,
   "id": "72636b2b",
   "metadata": {},
   "outputs": [],
   "source": [
    "def generate_cmp_matrix(n, transitive=False):\n",
    "    cmp_matrix = np.zeros((n,n), dtype=np.float64)\n",
    "    if transitive:\n",
    "        # Genrate a list of random number for comparison\n",
    "        scores = np.random.randn(n)\n",
    "        for i, j in combinations(range(n), 2):\n",
    "            win = int(scores[i] > scores[j])\n",
    "            cmp_matrix[i,j] = win\n",
    "            cmp_matrix[j,i] = 1 - win\n",
    "    else:\n",
    "        # Generate n*(n-1)/2 pairs winning scores\n",
    "        for i, j in combinations(range(n), 2):\n",
    "            win = np.random.randint(0, 2)\n",
    "            cmp_matrix[i,j] = win\n",
    "            cmp_matrix[j,i] = 1 - win\n",
    "\n",
    "    return cmp_matrix"
   ]
  },
  {
   "cell_type": "code",
   "execution_count": 10,
   "id": "a4e86459",
   "metadata": {},
   "outputs": [],
   "source": [
    "group_size = 10\n",
    "group = [chr(i) for i in range(65, 65 + group_size)]  # A-Z\n",
    "# cmp_matrix = np.tril(np.ones((group_size, group_size), dtype=int), k=-1)  # Upper triangle matrix\n",
    "cmp_matrix = generate_cmp_matrix(16, transitive=True)\n",
    "group_comparator = GroupPairwiseComparator(group, comparison_matrix=cmp_matrix)"
   ]
  },
  {
   "cell_type": "code",
   "execution_count": null,
   "id": "3b1e1ff7",
   "metadata": {},
   "outputs": [],
   "source": [
    "reverse = True\n",
    "res1, cnt1 = group_comparator.quick_sort(reverse=reverse, return_comparison_count=True)\n",
    "res2, cnt2 = group_comparator.tournament_sort(reverse=reverse, return_comparison_count=True)\n",
    "res3, cnt3 = group_comparator.swiss_sort(reverse=reverse, return_comparison_count=True)"
   ]
  },
  {
   "cell_type": "code",
   "execution_count": 12,
   "id": "48a33f47",
   "metadata": {},
   "outputs": [],
   "source": [
    "# Find permutation from original items to res\n",
    "perm1 = [group.index(item) for item in res1]\n",
    "perm2 = [group.index(item) for item in res2]\n",
    "perm3 = [group.index(item) for item in res3]"
   ]
  },
  {
   "cell_type": "code",
   "execution_count": 13,
   "id": "2bd9860f",
   "metadata": {},
   "outputs": [
    {
     "data": {
      "text/plain": [
       "(26, 25, 25, 45)"
      ]
     },
     "execution_count": 13,
     "metadata": {},
     "output_type": "execute_result"
    }
   ],
   "source": [
    "cnt1, cnt2, cnt3, len(group)*(len(group)-1)//2"
   ]
  },
  {
   "cell_type": "code",
   "execution_count": 14,
   "id": "6bdb4c54",
   "metadata": {},
   "outputs": [
    {
     "data": {
      "text/plain": [
       "('J,F,G,C,I,B,E,A,D,H', 'J,F,G,C,I,B,E,A,D,H', 'F,J,G,B,I,C,E,D,A,H')"
      ]
     },
     "execution_count": 14,
     "metadata": {},
     "output_type": "execute_result"
    }
   ],
   "source": [
    "','.join(res1), ','.join(res2), ','.join(res3)"
   ]
  },
  {
   "cell_type": "code",
   "execution_count": 15,
   "id": "c457723e",
   "metadata": {},
   "outputs": [
    {
     "name": "stdout",
     "output_type": "stream",
     "text": [
      "[0.875, 0.8125, 0.75, 0.6875, 0.625, 0.5625, 0.5, 0.3125, 0.125, 0.0]\n",
      "[0.875, 0.8125, 0.75, 0.6875, 0.625, 0.5625, 0.5, 0.3125, 0.125, 0.0]\n",
      "[0.8125, 0.875, 0.75, 0.5625, 0.625, 0.6875, 0.5, 0.125, 0.3125, 0.0]\n"
     ]
    },
    {
     "data": {
      "image/png": "[encoded data removed]",
      "text/plain": [
       "<Figure size 640x480 with 1 Axes>"
      ]
     },
     "metadata": {},
     "output_type": "display_data"
    }
   ],
   "source": [
    "mean_winning = group_comparator.comparison_matrix.mean(axis=1)\n",
    "stacked_mean = np.stack([mean_winning[p] for p in [perm1, perm2, perm3]], axis=0)\n",
    "for mean in stacked_mean:\n",
    "    print(mean.tolist())\n",
    "# Plot distribution\n",
    "import matplotlib.pyplot as plt\n",
    "\n",
    "for i, (data, marker) in enumerate(zip(stacked_mean ,'os^')):\n",
    "    plt.plot(data, marker=marker, label=f'perm{i}')\n",
    "\n",
    "plt.xlabel(\"Index\")\n",
    "plt.ylabel(\"Data value\")\n",
    "plt.legend()\n",
    "plt.show()"
   ]
  },
  {
   "cell_type": "code",
   "execution_count": 168,
   "id": "6fab4467",
   "metadata": {},
   "outputs": [
    {
     "data": {
      "text/plain": [
       "'P,L,K,M,J,G,D,C,B,E,O,A,F,N,H,I'"
      ]
     },
     "execution_count": 168,
     "metadata": {},
     "output_type": "execute_result"
    }
   ],
   "source": [
    "perm = np.argsort(mean_winning)[::-1]\n",
    "','.join(np.array(group)[perm])"
   ]
  },
  {
   "cell_type": "code",
   "execution_count": 160,
   "id": "415bf1ec",
   "metadata": {},
   "outputs": [
    {
     "data": {
      "text/plain": [
       "[0.25,\n",
       " 0.3125,\n",
       " 0.3125,\n",
       " 0.375,\n",
       " 0.375,\n",
       " 0.375,\n",
       " 0.375,\n",
       " 0.4375,\n",
       " 0.5,\n",
       " 0.5,\n",
       " 0.5625,\n",
       " 0.5625,\n",
       " 0.5625,\n",
       " 0.625,\n",
       " 0.6875,\n",
       " 0.6875]"
      ]
     },
     "execution_count": 160,
     "metadata": {},
     "output_type": "execute_result"
    }
   ],
   "source": [
    "sorted(group_comparator.comparison_matrix.mean(axis=1).tolist())"
   ]
  }
 ],
 "metadata": {
  "kernelspec": {
   "display_name": "common-use",
   "language": "python",
   "name": "python3"
  },
  "language_info": {
   "codemirror_mode": {
    "name": "ipython",
    "version": 3
   },
   "file_extension": ".py",
   "mimetype": "text/x-python",
   "name": "python",
   "nbconvert_exporter": "python",
   "pygments_lexer": "ipython3",
   "version": "3.12.9"
  }
 },
 "nbformat": 4,
 "nbformat_minor": 5
}
