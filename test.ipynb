{
 "cells": [
  {
   "cell_type": "code",
   "execution_count": 1,
   "id": "1ad1fa57",
   "metadata": {},
   "outputs": [],
   "source": [
    "import os\n",
    "import re\n",
    "import json\n",
    "from itertools import groupby, combinations, chain, permutations\n",
    "import numpy as np"
   ]
  },
  {
   "cell_type": "code",
   "execution_count": 7,
   "id": "cbb7c409",
   "metadata": {},
   "outputs": [],
   "source": [
    "aggregate_fn = lambda rewards: rewards[0] * np.sum(rewards[1:])"
   ]
  },
  {
   "cell_type": "code",
   "execution_count": 75,
   "id": "69b1c3c1",
   "metadata": {},
   "outputs": [
    {
     "name": "stdout",
     "output_type": "stream",
     "text": [
      "285\n"
     ]
    }
   ],
   "source": [
    "data = []\n",
    "with open('/Users/jayceping/code/T2I_GRPO/Flow_GRPO/dataset/T2IS/data_2by2.jsonl', 'r') as f:\n",
    "    for line in f:\n",
    "        data.append(json.loads(line))\n",
    "print(len(data))"
   ]
  },
  {
   "cell_type": "code",
   "execution_count": 148,
   "id": "cb274143",
   "metadata": {},
   "outputs": [],
   "source": [
    "similar_entity_set = [\n",
    "    # 人物相关\n",
    "    ('boys', 'girls', 'women', 'men', 'ladies', 'gentlemen'),\n",
    "    ('boy', 'girl', 'woman', 'man', 'lady', 'gentleman'),\n",
    "    ('child', 'kid', 'toddler', 'teenager'),\n",
    "    ('teacher', 'student', 'worker', 'boss'),\n",
    "    ('king', 'queen', 'prince', 'princess'),\n",
    "    ('doctor', 'nurse'),\n",
    "    ('artist', 'painter', 'sculptor', 'musician'),\n",
    "    ('hero', 'villain', 'warrior', 'knight'),\n",
    "\n",
    "    # 动物\n",
    "    ('cat', 'kitten', 'dog', 'puppy'),\n",
    "    ('lion', 'tiger', 'leopard', 'cheetah'),\n",
    "    ('wolf', 'fox', 'coyote', 'jackal'),\n",
    "    ('horse', 'pony', 'donkey', 'zebra'),\n",
    "    ('bird', 'eagle', 'hawk', 'owl'),\n",
    "    ('fish', 'shark', 'dolphin', 'whale'),\n",
    "    ('cow', 'bull', 'sheep', 'goat'),\n",
    "    ('chicken', 'duck', 'goose', 'turkey'),\n",
    "\n",
    "    # 交通工具\n",
    "    ('car', 'truck', 'motorcycle', 'bicycle'),\n",
    "    ('bus', 'train', 'tram', 'subway'),\n",
    "    ('ship', 'boat', 'yacht', 'canoe'),\n",
    "    ('airplane', 'jet', 'helicopter', 'glider'),\n",
    "\n",
    "    # 食物\n",
    "    ('apple', 'banana', 'orange', 'grape'),\n",
    "    ('bread', 'cake', 'cookie', 'pastry'),\n",
    "    ('pizza', 'burger', 'sandwich', 'hotdog'),\n",
    "    ('coffee', 'tea', 'milk', 'juice'),\n",
    "    ('rice', 'noodles', 'pasta', 'dumplings'),\n",
    "\n",
    "    # 家具 & 室内\n",
    "    ('table', 'chair', 'sofa', 'couch'),\n",
    "    ('bed', 'desk', 'wardrobe', 'cabinet'),\n",
    "    ('lamp', 'candle', 'lantern', 'chandelier'),\n",
    "    ('window', 'door', 'curtain'),\n",
    "\n",
    "    # 自然景物\n",
    "    ('mountain', 'hill', 'valley', 'cliff'),\n",
    "    ('river', 'lake', 'pond', 'ocean'),\n",
    "    ('forest', 'jungle', 'woods', 'grove'),\n",
    "    ('sun', 'moon', 'star', 'planet'),\n",
    "\n",
    "    # 抽象特征/形容词\n",
    "    ('old', 'young'),\n",
    "    ('happy', 'sad', 'angry', 'calm'),\n",
    "    ('big', 'small', 'tiny', 'huge'),\n",
    "    ('fast', 'slow', 'quick', 'lazy'),\n",
    "    ('beautiful', 'ugly', 'pretty', 'handsome'),\n",
    "    ('hot', 'cold', 'warm', 'cool'),\n",
    "]\n",
    "\n",
    "def gen_new_prompt(prompts):\n",
    "    if isinstance(prompts, str):\n",
    "        prompts = [prompts]\n",
    "\n",
    "    new_prompts = set([p for p in prompts])\n",
    "    for entities in similar_entity_set:\n",
    "        for e1, e2 in permutations(entities, 2):\n",
    "            # Replace word with boundary\n",
    "            new_prompts.update(re.sub(r'\\b' + re.escape(e1) + r'\\b', e2, prompt) for prompt in prompts)\n",
    "\n",
    "    return new_prompts\n",
    "\n",
    "def fix_point(fn, x0, max_iter = 10):\n",
    "\n",
    "    x1 = fn(x0)\n",
    "    while x1 != x0 and max_iter > 0:\n",
    "        x0, x1 = x1, fn(x1)\n",
    "        max_iter -= 1\n",
    "\n",
    "    return x1"
   ]
  },
  {
   "cell_type": "code",
   "execution_count": 149,
   "id": "26c3d8ac",
   "metadata": {},
   "outputs": [],
   "source": [
    "prompt_data = [(d['idx'], d['prompt']) for d in data]"
   ]
  },
  {
   "cell_type": "code",
   "execution_count": 150,
   "id": "9e2e4b9d",
   "metadata": {},
   "outputs": [],
   "source": [
    "new_prompts = []\n",
    "for idx, prompt in prompt_data:\n",
    "    new_prompts.append(fix_point(gen_new_prompt, prompt, max_iter=1))"
   ]
  },
  {
   "cell_type": "code",
   "execution_count": 151,
   "id": "d9cc6668",
   "metadata": {},
   "outputs": [],
   "source": [
    "# all_new_prompts = list(set(chain(*new_prompts)))\n",
    "all_new_prompts = list(chain(*new_prompts))"
   ]
  },
  {
   "cell_type": "code",
   "execution_count": 152,
   "id": "42a58d78",
   "metadata": {},
   "outputs": [
    {
     "data": {
      "text/plain": [
       "6850"
      ]
     },
     "execution_count": 152,
     "metadata": {},
     "output_type": "execute_result"
    }
   ],
   "source": [
    "len(all_new_prompts)"
   ]
  }
 ],
 "metadata": {
  "kernelspec": {
   "display_name": "common-use",
   "language": "python",
   "name": "python3"
  },
  "language_info": {
   "codemirror_mode": {
    "name": "ipython",
    "version": 3
   },
   "file_extension": ".py",
   "mimetype": "text/x-python",
   "name": "python",
   "nbconvert_exporter": "python",
   "pygments_lexer": "ipython3",
   "version": "3.12.9"
  }
 },
 "nbformat": 4,
 "nbformat_minor": 5
}
