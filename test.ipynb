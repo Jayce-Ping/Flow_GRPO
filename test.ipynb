{
 "cells": [
  {
   "cell_type": "code",
   "execution_count": 10,
   "id": "1ad1fa57",
   "metadata": {},
   "outputs": [],
   "source": [
    "import numpy as np"
   ]
  },
  {
   "cell_type": "code",
   "execution_count": null,
   "id": "3384dbc7",
   "metadata": {},
   "outputs": [],
   "source": [
    "def fn(list):\n",
    "    return np.log(np.sum([np.exp(x) for x in list]))"
   ]
  },
  {
   "cell_type": "code",
   "execution_count": null,
   "id": "a120795e",
   "metadata": {},
   "outputs": [
    {
     "data": {
      "text/plain": [
       "array([1, 2])"
      ]
     },
     "execution_count": 14,
     "metadata": {},
     "output_type": "execute_result"
    }
   ],
   "source": [
    "a = [[1,2],[4,5],[7,8]]\n",
    "a = np.array(a)\n",
    "\n",
    "fn = min\n",
    "\n",
    "# Apply fn along the dim=0 of a - column\n",
    "np.apply_along_axis(fn, 0, a)"
   ]
  }
 ],
 "metadata": {
  "kernelspec": {
   "display_name": "common-use",
   "language": "python",
   "name": "python3"
  },
  "language_info": {
   "codemirror_mode": {
    "name": "ipython",
    "version": 3
   },
   "file_extension": ".py",
   "mimetype": "text/x-python",
   "name": "python",
   "nbconvert_exporter": "python",
   "pygments_lexer": "ipython3",
   "version": "3.12.9"
  }
 },
 "nbformat": 4,
 "nbformat_minor": 5
}
